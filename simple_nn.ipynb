{
  "cells": [
    {
      "cell_type": "markdown",
      "metadata": {
        "id": "A4NJQn5E2MY2"
      },
      "source": [
        "# Introduction to Deep Learning Using Keras\n",
        "\n",
        "[Keras](https://keras.io/) is a high-level API for deep learning. It is written in Python, and can run on top of [Theano](http://deeplearning.net/software/theano/) or [TensorFlow](https://www.tensorflow.org/), two very popular libraries for neural networks in Python. It allows users to implement deep learning models very fast and with minimum effort. In the past years, the contribution of Keras to research in deep learning has been significant since it has allowed researchers to go from ideas to results with the least possible delay.\n",
        "\n",
        "In this part of the lab, we will implement a simple feedforward neural network to perform classification on a synthetic dataset, of two classes. Your first objective is to create this dataset. It will consist of 200 points in the 2-dimensional space $(N = 200, d = 2)$. Each point will belong either to class 0 or to class 1 (100 points per class), drawn from a Gaussian distribution: \n",
        "\n",
        "$$ \\mathbf{x}_i \\sim \\mathcal{N}(\\boldsymbol{\\mu}_k, \\boldsymbol{\\Sigma}_k) $$\n",
        "\n",
        "for class $k$. For class 0, we have $\\boldsymbol{\\mu}_0 = [1,1]$ and the covariance matrix is:\n",
        "\n",
        "$$ \\boldsymbol{\\Sigma}_1 = \\begin{bmatrix} 0.5 & 0 \\\\ 0 & 0.5 \\end{bmatrix} $$\n",
        "\n",
        "For class 1, $\\boldsymbol{\\mu}_1 = [-1,-1]$ and $\\boldsymbol{\\Sigma}_1 = \\boldsymbol{\\Sigma}_0$. To generate these values make use of the [`randn`](http://docs.scipy.org/doc/numpy/reference/generated/numpy.random.randn.html) function of NumPy that returns a sample from the \"standard normal\" distribution as follows: \n",
        "\n",
        "```python\n",
        "sd * np.random.randn(...) + mu\n",
        "```"
      ]
    },
    {
      "cell_type": "code",
      "execution_count": null,
      "metadata": {
        "id": "YhI9gOwo2MY4"
      },
      "outputs": [],
      "source": [
        "import numpy as np\n",
        "\n",
        "N = 200\n",
        "d = 2\n",
        "num_classes = 2\n",
        "\n",
        "X = np.zeros((N, d))\n",
        "y = np.zeros(N, dtype=np.int64)\n",
        "\n",
        "\n",
        "#your code here"
      ]
    },
    {
      "cell_type": "markdown",
      "metadata": {
        "id": "I28_sN7e2MZF"
      },
      "source": [
        "After generating the 200 points, plot them in a 2-dimensional plane using [`scatter`](http://matplotlib.org/api/pyplot_api.html#matplotlib.pyplot.scatter). Use the same color for points belonging to the same class."
      ]
    },
    {
      "cell_type": "code",
      "execution_count": null,
      "metadata": {
        "id": "rQxlc6fq2MZH"
      },
      "outputs": [],
      "source": [
        "import matplotlib.pyplot as plt\n",
        "%matplotlib inline\n",
        "\n",
        "#your code here"
      ]
    },
    {
      "cell_type": "markdown",
      "metadata": {
        "id": "u5ClT1Ed2MZP"
      },
      "source": [
        "Then, split the dataset into a training and a test set using the [`train_test_split`](http://scikit-learn.org/stable/modules/generated/sklearn.model_selection.train_test_split.html) function of scikit-learn. Set the proportion of the dataset to be included in the test set to 0.2."
      ]
    },
    {
      "cell_type": "code",
      "execution_count": null,
      "metadata": {
        "id": "31_m9yUp2MZQ"
      },
      "outputs": [],
      "source": [
        "from sklearn.model_selection import train_test_split\n",
        "\n",
        "#your code here"
      ]
    },
    {
      "cell_type": "markdown",
      "metadata": {
        "id": "YjiqIk-32MZW"
      },
      "source": [
        "Now you will use Keras to implement a simple feedforward neural network. In Keras, of particular importance is the notion of a model. The model is the data structure upon which the neural network is built. The most common type of model is the Sequential model, which corresponds to a linear stack of layers. We next initialize a Sequential model."
      ]
    },
    {
      "cell_type": "code",
      "execution_count": null,
      "metadata": {
        "id": "xkYNzyhV2MZX"
      },
      "outputs": [],
      "source": [
        "from tensorflow.keras.models import Sequential\n",
        "\n",
        "model = Sequential()"
      ]
    },
    {
      "cell_type": "markdown",
      "metadata": {
        "id": "HMfnrIRW2MZd"
      },
      "source": [
        "After creating a Sequence, we can add layers to it. In this example, we will add a hidden layer and the output layer. The hidden layer will consist of 64 hidden units and the output of each neuron will be activated by the [ReLU](https://en.wikipedia.org/wiki/Rectifier_(neural_networks)) activation function. The output layer will contain 1 neuron which corresponds to the probability that an instance belongs to class 1 of our problem. \n",
        "Both these layers are fully-connected neural network layers and can be implemented using the [Dense](https://keras.io/layers/core/#dense) class of Keras."
      ]
    },
    {
      "cell_type": "code",
      "execution_count": null,
      "metadata": {
        "id": "UsbKfj_o2MZf"
      },
      "outputs": [],
      "source": [
        "from tensorflow.keras.layers import Dense\n",
        "\n",
        "#your code here"
      ]
    },
    {
      "cell_type": "markdown",
      "metadata": {
        "id": "0dJtZSc82MZl"
      },
      "source": [
        "After defining the model, we compile it to configure its learning process. More specifically, we can specify the loss function and the optimizer and its parameters."
      ]
    },
    {
      "cell_type": "code",
      "execution_count": null,
      "metadata": {
        "id": "G_0vufN82MZl"
      },
      "outputs": [],
      "source": [
        "from tensorflow.keras.losses import binary_crossentropy\n",
        "from tensorflow.keras.optimizers import SGD\n",
        "\n",
        "model.compile(loss=binary_crossentropy, optimizer=SGD(lr=0.01, momentum=0.9))"
      ]
    },
    {
      "cell_type": "markdown",
      "metadata": {
        "id": "5Jn3-v8-2MZq"
      },
      "source": [
        "Once compiled, we can train the model by iterating on the training data in batches."
      ]
    },
    {
      "cell_type": "code",
      "execution_count": null,
      "metadata": {
        "id": "9LA9m66I2MZr"
      },
      "outputs": [],
      "source": [
        "model.fit(X_train, y_train, epochs=5, batch_size=16)"
      ]
    },
    {
      "cell_type": "markdown",
      "metadata": {
        "id": "n5D6Oc0f2MZx"
      },
      "source": [
        "Once trained, we can use your model to generate predictions on new data. Predictions are real values between 0 and 1. Set predictions larger than 0.5 to 1 and predictions smaller than 0.5 to 0."
      ]
    },
    {
      "cell_type": "code",
      "execution_count": null,
      "metadata": {
        "id": "lGU2jLFK2MZy"
      },
      "outputs": [],
      "source": [
        "y_pred = model.predict(X_test, batch_size=16)[:,0]\n",
        "\n",
        "#your code here"
      ]
    },
    {
      "cell_type": "markdown",
      "metadata": {
        "id": "-cQIN6z82MZ3"
      },
      "source": [
        "Finally, we will calculate the accuracy of the model by comparing the predictions against the ground truth class labels. Use the [`accuracy_score`](http://scikit-learn.org/stable/modules/generated/sklearn.metrics.accuracy_score.html) function of scikit-learn to compute the accuracy."
      ]
    },
    {
      "cell_type": "code",
      "execution_count": null,
      "metadata": {
        "id": "WGtJi4V62MZ3"
      },
      "outputs": [],
      "source": [
        "from sklearn.metrics import accuracy_score\n",
        "\n",
        "#your code here"
      ]
    },
    {
      "cell_type": "markdown",
      "metadata": {
        "id": "zYgA-OL72MZ7"
      },
      "source": [
        "Using the `pcolormesh` function, we can plot the decision surface of the network with regard to the input space. This is demonstrated as follows. Use your code from above (using `scatter`) to plot the data points over this surface."
      ]
    },
    {
      "cell_type": "code",
      "execution_count": null,
      "metadata": {
        "id": "eTAw7pEY2MZ9"
      },
      "outputs": [],
      "source": [
        "plt.figure()\n",
        "xx1, xx2 = np.meshgrid(\n",
        "    np.linspace(min(X[:,0]-1),max(X[:,0]+1),num=100), \n",
        "    np.linspace(min(X[:,1]-1),max(X[:,1]+1),num=100)\n",
        ")\n",
        "p_y = model.predict(np.c_[xx1.ravel(), xx2.ravel()])\n",
        "plt.pcolormesh(xx1, xx2, p_y.reshape(*xx1.shape), cmap='RdBu')\n",
        "plt.colorbar()\n",
        "plt.title(\"Surface $P(Y | \\mathbf{X})$\")\n",
        "plt.xlabel(\"$x_1$\")\n",
        "plt.ylabel(\"$x_2$\")\n",
        "plt.scatter(X[:,0], X[:,1], c=y)"
      ]
    },
    {
      "cell_type": "markdown",
      "metadata": {
        "id": "aNDVg50o2MaC"
      },
      "source": [
        "Create the XOR problem. Generate half of the datapoints of class 0 by sampling from a Gaussian with mean $\\boldsymbol{\\mu}_1 = [1,1]$ and covariance matrix:\n",
        "\n",
        "$$ \\boldsymbol{\\Sigma}_1 = \\begin{bmatrix} 0.3 & 0 \\\\ 0 & 0.3 \\end{bmatrix} $$\n",
        "\n",
        "The rest of the datapoints of class 0 are drawn from a Gaussian with mean $\\boldsymbol{\\mu}_2 = [-1,-1]$ and $\\boldsymbol{\\Sigma}_2 = \\boldsymbol{\\Sigma}_1$. For class 1, generate half of the datapoints by sampling from a Gaussian with mean $\\boldsymbol{\\mu}_3 = [1,-1]$ and $\\boldsymbol{\\Sigma}_3 = \\boldsymbol{\\Sigma}_1$, and the rest of the datapoints from a Gaussian with mean $\\boldsymbol{\\mu}_4 = [-1,1]$ and $\\boldsymbol{\\Sigma}_4 = \\boldsymbol{\\Sigma}_1$. Run the code again, and note how the decision surface changes."
      ]
    },
    {
      "cell_type": "code",
      "execution_count": null,
      "metadata": {
        "id": "8z708h-32EMg"
      },
      "outputs": [],
      "source": [
        "#your code here"
      ]
    },
    {
      "cell_type": "markdown",
      "metadata": {
        "id": "uUxbi2GR2EzU"
      },
      "source": [
        "You will next implement a simple feedforward neural network and apply it to a multi-class classification problem. More specifically, you will experiment with the Iris dataset. This is perhaps the best-known dataset to be found in the pattern recognition and machine learning literature. The dataset is relatively small and contains 150 samples in total. Each sample corresponds to an iris plant and there are 3 classes in total which correspond to 3 different types of iris plants (Setosa, Versicolour, and Virginica). There are 4 features, namely Sepal Length, Sepal Width, Petal Length and Petal Width. Note that since this is a mult-class classification problem, the activation function in the output layer cannot be the sigmoid function, while the loss function is the categorical crossentropy.\n"
      ]
    },
    {
      "cell_type": "code",
      "execution_count": null,
      "metadata": {
        "id": "-gIAHnlN4b6V"
      },
      "outputs": [],
      "source": [
        "from sklearn.datasets import load_iris\n",
        "from tensorflow.keras.utils import to_categorical\n",
        "from tensorflow.keras.losses import categorical_crossentropy\n",
        "\n",
        "X, y = load_iris(return_X_y=True)\n",
        "y = to_categorical(y)\n",
        "\n",
        "X_train, X_test, y_train, y_test = train_test_split(X, y, test_size=0.1)\n",
        "\n",
        "#your code here"
      ]
    }
  ],
  "metadata": {
    "colab": {
      "collapsed_sections": [],
      "provenance": []
    },
    "kernelspec": {
      "display_name": "Python 3.9.7 64-bit",
      "language": "python",
      "name": "python3"
    },
    "language_info": {
      "codemirror_mode": {
        "name": "ipython",
        "version": 3
      },
      "file_extension": ".py",
      "mimetype": "text/x-python",
      "name": "python",
      "nbconvert_exporter": "python",
      "pygments_lexer": "ipython3",
      "version": "3.9.7"
    },
    "vscode": {
      "interpreter": {
        "hash": "aee8b7b246df8f9039afb4144a1f6fd8d2ca17a180786b69acc140d282b71a49"
      }
    }
  },
  "nbformat": 4,
  "nbformat_minor": 0
}
